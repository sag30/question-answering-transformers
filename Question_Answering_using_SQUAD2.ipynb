{
  "nbformat": 4,
  "nbformat_minor": 0,
  "metadata": {
    "colab": {
      "name": "Question_Answering_using_SQUAD2.ipynb",
      "provenance": [],
      "collapsed_sections": [],
      "private_outputs": true,
      "include_colab_link": true
    },
    "kernelspec": {
      "name": "python3",
      "display_name": "Python 3"
    },
    "language_info": {
      "name": "python"
    },
    "accelerator": "GPU"
  },
  "cells": [
    {
      "cell_type": "markdown",
      "metadata": {
        "id": "view-in-github",
        "colab_type": "text"
      },
      "source": [
        "<a href=\"https://colab.research.google.com/github/sag30/question-answering-transformers/blob/main/Question_Answering_using_SQUAD2.ipynb\" target=\"_parent\"><img src=\"https://colab.research.google.com/assets/colab-badge.svg\" alt=\"Open In Colab\"/></a>"
      ]
    },
    {
      "cell_type": "code",
      "source": [
        "#Testing for GPU\n",
        "import tensorflow as tf\n",
        "tf.test.gpu_device_name()"
      ],
      "metadata": {
        "id": "4qBQRLZfueMa"
      },
      "execution_count": null,
      "outputs": []
    },
    {
      "cell_type": "code",
      "source": [
        "#Listing Devices\n",
        "from tensorflow.python.client import device_lib\n",
        "device_lib.list_local_devices()"
      ],
      "metadata": {
        "id": "iEivKJqWumpX"
      },
      "execution_count": null,
      "outputs": []
    },
    {
      "cell_type": "code",
      "execution_count": null,
      "metadata": {
        "id": "J_tE-PZKWUTP"
      },
      "outputs": [],
      "source": [
        "!pip install transformers"
      ]
    },
    {
      "cell_type": "code",
      "source": [
        "import pandas as pd\n",
        "from transformers import AutoModelForQuestionAnswering, AutoTokenizer, pipeline\n",
        "\n",
        "model_name = \"deepset/roberta-base-squad2\"\n",
        "\n",
        "# a) Get predictions\n",
        "nlp = pipeline('question-answering', model=model_name, tokenizer=model_name)\n",
        "\n",
        "# b) Load model & tokenizer\n",
        "model = AutoModelForQuestionAnswering.from_pretrained(model_name)\n",
        "tokenizer = AutoTokenizer.from_pretrained(model_name)"
      ],
      "metadata": {
        "id": "YnDtCnQRWcUl"
      },
      "execution_count": null,
      "outputs": []
    },
    {
      "cell_type": "code",
      "source": [
        "def qna_using_squad(question,context):\n",
        "  print(\"Question:\",question)\n",
        "  print(\"Context:\",context)\n",
        "  QA_input = {\n",
        "      'question': question,\n",
        "      'context': context\n",
        "  }\n",
        "  res = nlp(QA_input)\n",
        "  print(\"Answer:\",res['answer'])\n",
        "  return res['answer']"
      ],
      "metadata": {
        "id": "d769YmGQW4mp"
      },
      "execution_count": null,
      "outputs": []
    },
    {
      "cell_type": "code",
      "source": [
        "df = pd.read_excel('/content/ConclusionKeyword.xlsx')\n",
        "df.shape\n",
        "df.columns"
      ],
      "metadata": {
        "id": "vEbllnf1W5WT"
      },
      "execution_count": null,
      "outputs": []
    },
    {
      "cell_type": "code",
      "source": [
        "# question='What was the resolution given?'\n",
        "question='What did the agent say?'\n",
        "df['SQUAD2_Answer'] = df['S2T Summary_New'].apply(lambda x:qna_using_squad(question,x))"
      ],
      "metadata": {
        "id": "jOEZ0JVbsRnf"
      },
      "execution_count": null,
      "outputs": []
    },
    {
      "cell_type": "code",
      "source": [
        "question_set=['What did the agent say',\n",
        "              'Was the call transferred?',\n",
        "              \"Was a discount provided\",\n",
        "              \"Was a credit given?\",\n",
        "              \"Was the customer satisfied?\",\n",
        "              \"Did the agent resolve the customer's problem?\"]\n",
        "for q in question_set:\n",
        "  df[q] = df['S2T Summary_New'].apply(lambda x: qna_using_squad(q,x))"
      ],
      "metadata": {
        "id": "NydZK0VusFlh"
      },
      "execution_count": null,
      "outputs": []
    },
    {
      "cell_type": "code",
      "source": [
        "df.to_excel(\"/content/QnA_using_SQUAD2.xlsx\")"
      ],
      "metadata": {
        "id": "zMxYyi5tt7rp"
      },
      "execution_count": null,
      "outputs": []
    }
  ]
}